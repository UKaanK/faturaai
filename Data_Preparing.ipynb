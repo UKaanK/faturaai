{
 "cells": [
  {
   "cell_type": "code",
   "execution_count": 17,
   "id": "f26a52e0-d5e2-4661-99ae-bc64c4735c8a",
   "metadata": {
    "ExecuteTime": {
     "end_time": "2024-08-26T19:14:45.313148Z",
     "start_time": "2024-08-26T19:14:44.697236Z"
    }
   },
   "outputs": [
    {
     "name": "stdout",
     "output_type": "stream",
     "text": [
      "Giriş klasöründeki dosyalar:\n",
      "['1723959434.pdf']\n",
      "Combined image saved to C:/Users/Casper EXCALIBUR/Desktop/sunumproje/disardanbulunan\\birleşmiş1.jpg\n"
     ]
    }
   ],
   "source": [
    "import os\n",
    "import pymupdf as fitz  # PyMuPDF\n",
    "from PIL import Image\n",
    "\n",
    "def merge_pdf_to_image(input_folder, output_folder):\n",
    "    # Giriş klasöründeki dosyaları listele\n",
    "    print(\"Giriş klasöründeki dosyalar:\")\n",
    "    print(os.listdir(input_folder))\n",
    "\n",
    "    # Çıkış klasörü yoksa oluştur\n",
    "    if not os.path.exists(output_folder):\n",
    "        os.makedirs(output_folder)\n",
    "\n",
    "    # Giriş klasöründeki tüm PDF dosyalarını al (büyük/küçük harf duyarlılığına dikkat edin)\n",
    "    pdf_files = [f for f in os.listdir(input_folder) if f.lower().endswith('.pdf')]\n",
    "    \n",
    "    if not pdf_files:\n",
    "        print(\"Giriş klasöründe PDF dosyası bulunamadı.\")\n",
    "        return\n",
    "\n",
    "    for index, pdf_file in enumerate(pdf_files):\n",
    "        pdf_path = os.path.join(input_folder, pdf_file)\n",
    "        \n",
    "        # PDF dosyasını açın\n",
    "        pdf_document = fitz.open(pdf_path)\n",
    "\n",
    "        # PDF sayfalarını görüntülere dönüştürün\n",
    "        images = []\n",
    "        for page_num in range(len(pdf_document)):\n",
    "            page = pdf_document.load_page(page_num)\n",
    "            pix = page.get_pixmap()\n",
    "            img = Image.frombytes(\"RGB\", [pix.width, pix.height], pix.samples)\n",
    "            images.append(img)\n",
    "\n",
    "        # Sayfaları dikey olarak birleştirin\n",
    "        total_height = sum(image.height for image in images)\n",
    "        max_width = max(image.width for image in images)\n",
    "        \n",
    "        combined_image = Image.new('RGB', (max_width, total_height))\n",
    "\n",
    "        y_offset = 0\n",
    "        for image in images:\n",
    "            combined_image.paste(image, (0, y_offset))\n",
    "            y_offset += image.height\n",
    "\n",
    "        # Birleştirilmiş görüntüyü kaydedin\n",
    "        output_image_path = os.path.join(output_folder, f\"birleşmiş{index + 1}.jpg\")\n",
    "        combined_image.save(output_image_path)\n",
    "        print(f\"Combined image saved to {output_image_path}\")\n",
    "\n",
    "# Kullanım\n",
    "input_folder = \"C:/Users/Casper EXCALIBUR/Desktop/train (1)/train/disardanbulunan\"  \n",
    "output_folder = \"C:/Users/Casper EXCALIBUR/Desktop/sunumproje/disardanbulunan\" \n",
    "merge_pdf_to_image(input_folder, output_folder)"
   ]
  },
  {
   "cell_type": "code",
   "execution_count": null,
   "id": "f64934ee-2832-4a8e-92b3-d98425e15ebd",
   "metadata": {},
   "outputs": [],
   "source": []
  },
  {
   "cell_type": "code",
   "execution_count": null,
   "id": "ebdf2184-593e-4811-b7ce-8872a244ea6c",
   "metadata": {},
   "outputs": [],
   "source": []
  },
  {
   "cell_type": "code",
   "execution_count": null,
   "id": "16abea49-2856-4cca-af63-71bff969b638",
   "metadata": {},
   "outputs": [],
   "source": []
  }
 ],
 "metadata": {
  "kernelspec": {
   "display_name": "Python 3 (ipykernel)",
   "language": "python",
   "name": "python3"
  },
  "language_info": {
   "codemirror_mode": {
    "name": "ipython",
    "version": 3
   },
   "file_extension": ".py",
   "mimetype": "text/x-python",
   "name": "python",
   "nbconvert_exporter": "python",
   "pygments_lexer": "ipython3",
   "version": "3.12.4"
  }
 },
 "nbformat": 4,
 "nbformat_minor": 5
}
